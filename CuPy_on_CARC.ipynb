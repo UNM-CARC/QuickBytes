{
 "cells": [
  {
   "cell_type": "markdown",
   "id": "different-orbit",
   "metadata": {},
   "source": [
    "# Using CuPy on CARC\n",
    "\n",
    "CuPy is an open-source array library for GPU-accelerated computing with Python. CuPy makes use of CUDA Tookkit libraries to make full use of GPU archtecture. This is a brief demo on installing and using CuPy on CARC's systems.\n",
    "\n",
    "## Conda Environment\n",
    "\n",
    "For this demo, you must first install the following python libraries to a conda environment: `cupy`, `numpy`, and `matplotlib`. It is also recommended that you install `ipykernel` so that you can run your code on CARC's JupyterHub interface, like in this tutorial. "
   ]
  },
  {
   "cell_type": "markdown",
   "id": "primary-sculpture",
   "metadata": {},
   "source": [
    "## Code Example\n",
    "\n",
    "This example will compare the performance of a computation when performed on a cpu using numpy and when on a gpu using cupy.\n",
    "\n",
    "Start by importing all the libraries used."
   ]
  },
  {
   "cell_type": "code",
   "execution_count": 1,
   "id": "educated-grill",
   "metadata": {},
   "outputs": [],
   "source": [
    "import cupy as cp\n",
    "import numpy as np\n",
    "import time\n",
    "import matplotlib.pyplot as plt"
   ]
  },
  {
   "cell_type": "markdown",
   "id": "pressing-dietary",
   "metadata": {},
   "source": [
    "Perform an elementwise sin operation on random arrays of increasing sizes.\n",
    "The computation time for both a cpu and gpu are recorded for each array."
   ]
  },
  {
   "cell_type": "code",
   "execution_count": 3,
   "id": "usual-treasure",
   "metadata": {},
   "outputs": [],
   "source": [
    "np.random.seed(1)\n",
    "\n",
    "cpuTimes = []\n",
    "gpuTimes = []\n",
    "sizes = []\n",
    "\n",
    "for i in range(1000,1000000,1000):\n",
    "    array = np.random.rand(i,1)\n",
    "\n",
    "    x_gpu = cp.array(array)\n",
    "\n",
    "    startTime = time.time()\n",
    "    l2_gpu = cp.sin(x_gpu)\n",
    "    gpuTime = time.time() - startTime\n",
    "\n",
    "    x_cpu = np.array(array)\n",
    "\n",
    "    startTime = time.time()\n",
    "    l2_cpu = np.sin(x_cpu)\n",
    "    cpuTime = time.time() - startTime\n",
    "    \n",
    "    sizes.append(i)\n",
    "    cpuTimes.append(cpuTime)\n",
    "    gpuTimes.append(gpuTime)\n",
    "\n",
    "\n"
   ]
  },
  {
   "cell_type": "markdown",
   "id": "worth-blackjack",
   "metadata": {},
   "source": [
    "Plot the results (blue for cpu and red for gpu)."
   ]
  },
  {
   "cell_type": "code",
   "execution_count": 4,
   "id": "committed-pennsylvania",
   "metadata": {},
   "outputs": [
    {
     "data": {
      "text/plain": [
       "[<matplotlib.lines.Line2D at 0x2b571ffc8160>]"
      ]
     },
     "execution_count": 4,
     "metadata": {},
     "output_type": "execute_result"
    },
    {
     "data": {
      "image/png": "[encoded data removed]",
      "text/plain": [
       "<Figure size 432x288 with 1 Axes>"
      ]
     },
     "metadata": {
      "needs_background": "light"
     },
     "output_type": "display_data"
    }
   ],
   "source": [
    "plt.plot(sizes,cpuTimes, '-b')\n",
    "plt.plot(sizes,gpuTimes, '-r')\n",
    "\n"
   ]
  },
  {
   "cell_type": "code",
   "execution_count": 5,
   "id": "unavailable-bosnia",
   "metadata": {},
   "outputs": [
    {
     "name": "stdout",
     "output_type": "stream",
     "text": [
      "Cpu Time:  0.015197992324829102\n",
      "GPU Time:  5.221366882324219e-05\n",
      "Speed up:  291.0730593607306\n"
     ]
    }
   ],
   "source": [
    "print(\"Cpu Time: \", cpuTime)\n",
    "print(\"GPU Time: \", gpuTime)\n",
    "\n",
    "print(\"Speed up: \", cpuTime/gpuTime)\n"
   ]
  }
 ],
 "metadata": {
  "kernelspec": {
   "display_name": "Python [conda env:.conda-cupyEnv]",
   "language": "python",
   "name": "conda-env-.conda-cupyEnv-py"
  },
  "language_info": {
   "codemirror_mode": {
    "name": "ipython",
    "version": 3
   },
   "file_extension": ".py",
   "mimetype": "text/x-python",
   "name": "python",
   "nbconvert_exporter": "python",
   "pygments_lexer": "ipython3",
   "version": "3.9.12"
  }
 },
 "nbformat": 4,
 "nbformat_minor": 5
}
