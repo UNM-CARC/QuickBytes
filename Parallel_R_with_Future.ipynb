{
 "cells": [
  {
   "cell_type": "markdown",
   "metadata": {},
   "source": [
    "# Parallelization of R code using the future package\n",
    "\n",
    "In R, numerous packages can be used to parallelize code (parallel, snow, foreach, etc.), but each of  these packages use unique syntaxes and none of them work for all cases of parallelization. Instead, the [future package](https://github.com/HenrikBengtsson/future) solves this problem! Briefly (seet the [future package](https://github.com/HenrikBengtsson/future) for details), the future package works in three steps:\n",
    "\n",
    "1. Choose how you want to parallelize your code\n",
    "    - set the type of parallelization with the plan() object.  \n",
    "2. Choose which part of the code you would like to run in parallel\n",
    "    - place the part of the code that will be iterated within the future({}) object. \n",
    "3. Evaluate the code. \n",
    "    - run the iterations using the value() object. \n",
    "\n",
    "The power of the future package is it separates the planning for the parallelization (steps 1 and 2) and then executes the code afterwards. This allows the user to control how and where to parallelize their code. Thus, the framework can be extended to any iterative process.\n",
    "\n",
    "\n",
    "Table of Contents\n",
    "\n",
    "   - Packages\n",
    "   - For-loop Example and basic structure\n",
    "   - Tidyverse example using the furrr package\n",
    "   - Bayesian example using multiple nodes via the future.batchtools package\n",
    "   - Appendix: Testing speed of Future\n",
    "\n"
   ]
  },
  {
   "cell_type": "markdown",
   "metadata": {},
   "source": [
    "## Packages \n",
    "\n",
    "Before you run the code, I recommend installing R 4.0 and IRKernal via conda. Once you activate your conda environment, feel free to run the rest through jupyter: \n",
    "https://wheeler.alliance.unm.edu:8000/\n",
    "\n",
    "Final note:\n",
    "make sure you are on a node with 8 cores on an interactive node or logged into Jupyter before running the code. \n"
   ]
  },
  {
   "cell_type": "code",
   "execution_count": null,
   "metadata": {},
   "outputs": [],
   "source": [
    "# Load miniconda\n",
    "module load miniconda3-4.7.12.1-gcc-4.8.5-lmtvtik\n",
    "\n",
    "# create r_parallel which installs 4\n",
    "conda create -n r_parallel_tutorial r=4 r-irkernel -c conda-forge\n",
    "\n",
    "# enables you do use conda activate\n",
    "eval \"$(conda shell.bash hook)\"\n",
    "\n",
    "conda activate r_parallel_tutorial"
   ]
  },
  {
   "cell_type": "code",
   "execution_count": 5,
   "metadata": {},
   "outputs": [
    {
     "name": "stderr",
     "output_type": "stream",
     "text": [
      "also installing the dependencies ‘colorspace’, ‘hms’, ‘prettyunits’, ‘munsell’, ‘RColorBrewer’, ‘viridisLite’, ‘globals’, ‘listenv’, ‘parallelly’, ‘base64url’, ‘brew’, ‘checkmate’, ‘data.table’, ‘fs’, ‘progress’, ‘R6’, ‘rappdirs’, ‘stringi’, ‘withr’, ‘magrittr’, ‘generics’, ‘tidyselect’, ‘cpp11’, ‘gtable’, ‘isoband’, ‘scales’, ‘pkgconfig’\n",
      "\n",
      "\n",
      "Updating HTML index of packages in '.Library'\n",
      "\n",
      "Making 'packages.html' ...\n",
      " done\n",
      "\n"
     ]
    }
   ],
   "source": [
    "# double check you have multiple cores available\n",
    "\n",
    "install.packages(\n",
    "    c(\"future\", \"batchtools\", \"future.batchtools\", \"repurrrsive\",\n",
    "      \"purrr\",\"dplyr\",\"furrr\",\"tidyr\", \"snow\", \"ggplot2\",\n",
    "      \"tibble\", \"labeling\", \"farver\",\"backports\"), \n",
    "    repos='http://cran.us.r-project.org', \n",
    "    Ncpus = 8 )"
   ]
  },
  {
   "cell_type": "code",
   "execution_count": 6,
   "metadata": {},
   "outputs": [
    {
     "name": "stderr",
     "output_type": "stream",
     "text": [
      "\n",
      "Attaching package: ‘dplyr’\n",
      "\n",
      "\n",
      "The following objects are masked from ‘package:stats’:\n",
      "\n",
      "    filter, lag\n",
      "\n",
      "\n",
      "The following objects are masked from ‘package:base’:\n",
      "\n",
      "    intersect, setdiff, setequal, union\n",
      "\n",
      "\n"
     ]
    },
    {
     "data": {
      "text/html": [
       "<strong>system:</strong> 8"
      ],
      "text/latex": [
       "\\textbf{system:} 8"
      ],
      "text/markdown": [
       "**system:** 8"
      ],
      "text/plain": [
       "system \n",
       "     8 "
      ]
     },
     "metadata": {},
     "output_type": "display_data"
    },
    {
     "data": {
      "text/html": [
       "TRUE"
      ],
      "text/latex": [
       "TRUE"
      ],
      "text/markdown": [
       "TRUE"
      ],
      "text/plain": [
       "[1] TRUE"
      ]
     },
     "metadata": {},
     "output_type": "display_data"
    }
   ],
   "source": [
    "library(future) # needed for all examples\n",
    "library(purrr) # needed for tidyvese example\n",
    "library(dplyr) # needed for tidyverse example\n",
    "library(furrr) # needed for tidyverse example\n",
    "library(repurrrsive) # loads in data for tidyverse example\n",
    "library(future.batchtools) # needed for bayesian example\n",
    "library(tidyr) # needed for tidyverse example\n",
    "library(snow) # needed to load Hmsc for bayesian example\n",
    "library(ggplot2) # needed to plot functions\n",
    "library(labeling) # needed to plot functions\n",
    "library(farver) # needed to plot functions\n",
    "\n",
    "\n",
    "\n",
    "# double-check you have access to mulitple cores \n",
    "availableCores()\n",
    "\n",
    "# check that you can run multicore (will fail for R-studio and windows!)\n",
    "supportsMulticore()"
   ]
  },
  {
   "cell_type": "code",
   "execution_count": 7,
   "metadata": {},
   "outputs": [
    {
     "data": {
      "text/plain": [
       "R version 4.1.0 (2021-05-18)\n",
       "Platform: x86_64-conda-linux-gnu (64-bit)\n",
       "Running under: CentOS Linux 7 (Core)\n",
       "\n",
       "Matrix products: default\n",
       "BLAS/LAPACK: /users/mimann/.conda/envs/r_parallel_tutorial/lib/libopenblasp-r0.3.17.so\n",
       "\n",
       "locale:\n",
       " [1] LC_CTYPE=en_US.UTF-8       LC_NUMERIC=C              \n",
       " [3] LC_TIME=en_US.UTF-8        LC_COLLATE=en_US.UTF-8    \n",
       " [5] LC_MONETARY=en_US.UTF-8    LC_MESSAGES=en_US.UTF-8   \n",
       " [7] LC_PAPER=en_US.UTF-8       LC_NAME=C                 \n",
       " [9] LC_ADDRESS=C               LC_TELEPHONE=C            \n",
       "[11] LC_MEASUREMENT=en_US.UTF-8 LC_IDENTIFICATION=C       \n",
       "\n",
       "attached base packages:\n",
       "[1] stats     graphics  grDevices utils     datasets  methods   base     \n",
       "\n",
       "other attached packages:\n",
       " [1] farver_2.1.0             labeling_0.4.2           ggplot2_3.3.5           \n",
       " [4] snow_0.4-3               tidyr_1.1.3              future.batchtools_0.10.0\n",
       " [7] repurrrsive_1.0.0        furrr_0.2.3              dplyr_1.0.7             \n",
       "[10] purrr_0.3.4              future_1.21.0           \n",
       "\n",
       "loaded via a namespace (and not attached):\n",
       " [1] pillar_1.6.2      compiler_4.1.0    prettyunits_1.1.1 progress_1.2.2   \n",
       " [5] base64enc_0.1-3   tools_4.1.0       digest_0.6.27     uuid_0.1-4       \n",
       " [9] gtable_0.3.0      jsonlite_1.7.2    evaluate_0.14     lifecycle_1.0.0  \n",
       "[13] tibble_3.1.3      checkmate_2.0.0   pkgconfig_2.0.3   rlang_0.4.11     \n",
       "[17] IRdisplay_1.0     IRkernel_1.2      parallel_4.1.0    withr_2.4.2      \n",
       "[21] repr_1.1.3        rappdirs_0.3.3    hms_1.1.0         generics_0.1.0   \n",
       "[25] vctrs_0.3.8       globals_0.14.0    grid_4.1.0        tidyselect_1.1.1 \n",
       "[29] data.table_1.14.0 glue_1.4.2        listenv_0.8.0     R6_2.5.0         \n",
       "[33] fansi_0.4.2       parallelly_1.27.0 base64url_1.4     pbdZMQ_0.3-5     \n",
       "[37] magrittr_2.0.1    scales_1.1.1      backports_1.2.1   codetools_0.2-18 \n",
       "[41] batchtools_0.9.15 ellipsis_0.3.2    htmltools_0.5.1.1 colorspace_2.0-2 \n",
       "[45] brew_1.0-6        utf8_1.2.2        stringi_1.7.3     munsell_0.5.0    \n",
       "[49] crayon_1.4.1     "
      ]
     },
     "metadata": {},
     "output_type": "display_data"
    }
   ],
   "source": [
    "sessionInfo()"
   ]
  },
  {
   "cell_type": "markdown",
   "metadata": {},
   "source": [
    "## 1. For-loop example and basic structure\n",
    "\n",
    "This example shows how the future package can be used for running a for-loop that iterates over a very slow function."
   ]
  },
  {
   "cell_type": "markdown",
   "metadata": {},
   "source": [
    "### Setting up and running loop in serial\n",
    "First, we will create a function that pauses for 0.5 seconds. \n",
    "At the end, we will print the length of time it took to run. "
   ]
  },
  {
   "cell_type": "code",
   "execution_count": 8,
   "metadata": {},
   "outputs": [
    {
     "data": {
      "text/html": [
       "<style>\n",
       ".list-inline {list-style: none; margin:0; padding: 0}\n",
       ".list-inline>li {display: inline-block}\n",
       ".list-inline>li:not(:last-child)::after {content: \"\\00b7\"; padding: 0 .5ex}\n",
       "</style>\n",
       "<ol class=list-inline><li>'Step 1 completed'</li><li>'Step 2 completed'</li><li>'Step 3 completed'</li><li>'Step 4 completed'</li><li>'Step 5 completed'</li><li>'Step 6 completed'</li></ol>\n"
      ],
      "text/latex": [
       "\\begin{enumerate*}\n",
       "\\item 'Step 1 completed'\n",
       "\\item 'Step 2 completed'\n",
       "\\item 'Step 3 completed'\n",
       "\\item 'Step 4 completed'\n",
       "\\item 'Step 5 completed'\n",
       "\\item 'Step 6 completed'\n",
       "\\end{enumerate*}\n"
      ],
      "text/markdown": [
       "1. 'Step 1 completed'\n",
       "2. 'Step 2 completed'\n",
       "3. 'Step 3 completed'\n",
       "4. 'Step 4 completed'\n",
       "5. 'Step 5 completed'\n",
       "6. 'Step 6 completed'\n",
       "\n",
       "\n"
      ],
      "text/plain": [
       "[1] \"Step 1 completed\" \"Step 2 completed\" \"Step 3 completed\" \"Step 4 completed\"\n",
       "[5] \"Step 5 completed\" \"Step 6 completed\""
      ]
     },
     "metadata": {},
     "output_type": "display_data"
    },
    {
     "name": "stdout",
     "output_type": "stream",
     "text": [
      "[1] \"Elapsed time (seconds) for for-loop\"\n"
     ]
    },
    {
     "data": {
      "text/html": [
       "25.06"
      ],
      "text/latex": [
       "25.06"
      ],
      "text/markdown": [
       "25.06"
      ],
      "text/plain": [
       "[1] 25.06"
      ]
     },
     "metadata": {},
     "output_type": "display_data"
    }
   ],
   "source": [
    "# custom function that waits a half a second and then prints current step value\n",
    "slow_function <- function(step){\n",
    "  \n",
    "  # wait half a second\n",
    "  Sys.sleep(.5)\n",
    "    paste0(\"Step \", step, \" completed\")\n",
    "\n",
    "}\n",
    "\n",
    "\n",
    "#### running loop in serial ####\n",
    "# timestamp before loop \n",
    "t1 <- proc.time()\n",
    "# pre-allocate output \n",
    "output <- rep(NA, 50)\n",
    "\n",
    "# for-loop\n",
    "for (i in 1:50){\n",
    "  output[i] <- slow_function(i)\n",
    "\n",
    "}\n",
    "\n",
    "# print the output for first 6 steps\n",
    "head(output)\n",
    "\n",
    "# timestampe after loop \n",
    "t2 <- proc.time()\n",
    "\n",
    "\n",
    "print(\"Elapsed time (seconds) for for-loop\")\n",
    "# length of time\n",
    "time_Elapsed <- t2[[3]] - t1[[3]]\n",
    "round(time_Elapsed, 2)"
   ]
  },
  {
   "cell_type": "markdown",
   "metadata": {},
   "source": [
    "###  Rerunning for-loop in parallel\n",
    "Now we will re-write the for-loop so it is compatible with future. We will choose to run it across every core in the node we are using. \n",
    "\n",
    "WARNING: if you plan to run this example locally on R-studio, you will need to change it to plan(multisession). "
   ]
  },
  {
   "cell_type": "markdown",
   "metadata": {},
   "source": [
    "#### 1. Choose how you want to parallelize your code\n",
    "using the plan() object set to \"multicore\", we will establish we want to use all the cores available on the node. \n",
    "\n",
    "We will set the number of iterations to run to 50  and pre-allocate space for the future loop by creating the \"command_set\" object.  Since future puts every iteratation in a list, we will use a vector to pre-allocate empty lists for every iteration."
   ]
  },
  {
   "cell_type": "code",
   "execution_count": 9,
   "metadata": {},
   "outputs": [],
   "source": [
    "#### rerunning loop in parallel using all available cores ####\n",
    "# going to send iterations to each cores\n",
    "# to run it only on specified number of cores, add the argument, workers. \n",
    "plan(multicore)\n",
    "\n",
    "iterations <- 50\n",
    "# rewrite loop so it works with future:\n",
    "# future requires the iterative step to be saved as its own list, \n",
    "# thus we will create a list object with 50 slots for each step. \n",
    "command_set <- vector(mode = \"list\", length = iterations)\n",
    "\n"
   ]
  },
  {
   "cell_type": "markdown",
   "metadata": {},
   "source": [
    "#### 2. Choose which part of the code you would like to run in parallel\n",
    "Here, we are rewriting the for-loop to work with future.\n",
    "\n",
    "We will place the section we want to iterate within the curly-brackets of the future() object. The output is written to a separate list within the y object (it creates a list of lists). When you run this code, it doesn't evaluate the loop but sets up the environments for each iteration to run in parallel. Thus, the time elapsed is all the time needed to plan the code. \n",
    "\n",
    "WARNING: Setting up the lists prior to evaluation can slow down the parallelization effort (see appendix)."
   ]
  },
  {
   "cell_type": "code",
   "execution_count": 10,
   "metadata": {},
   "outputs": [
    {
     "name": "stdout",
     "output_type": "stream",
     "text": [
      "[1] \"Elapsed time (seconds) for planning command set\"\n"
     ]
    },
    {
     "data": {
      "text/html": [
       "11.27"
      ],
      "text/latex": [
       "11.27"
      ],
      "text/markdown": [
       "11.27"
      ],
      "text/plain": [
       "[1] 11.27"
      ]
     },
     "metadata": {},
     "output_type": "display_data"
    }
   ],
   "source": [
    "\n",
    "t1 <- proc.time()\n",
    "for (i in 1:iterations){\n",
    "\n",
    "  command_set[[i]] <- future(\n",
    "    # code for each iteration within the curly brackets\n",
    "    {slow_function(i)}\n",
    "  ) \n",
    "}\n",
    "\n",
    "\n",
    "t2 <- proc.time()\n",
    "\n",
    "\n",
    "print(\"Elapsed time (seconds) for planning command set\")\n",
    "# length of time\n",
    "time_Elapsed <- t2[[3]] - t1[[3]]\n",
    "round(time_Elapsed, 2)\n"
   ]
  },
  {
   "cell_type": "markdown",
   "metadata": {},
   "source": [
    "Before Future evaluates the R code, it first writes the global environment to the \"command_set\" object. Each iteration is one list, thus extracting the first list will display what it will do for the first step in the loop. "
   ]
  },
  {
   "cell_type": "code",
   "execution_count": 11,
   "metadata": {},
   "outputs": [
    {
     "name": "stdout",
     "output_type": "stream",
     "text": [
      "[1] \"What one iteration looks like in the command set\"\n"
     ]
    },
    {
     "data": {
      "text/plain": [
       "MulticoreFuture:\n",
       "Label: ‘<none>’\n",
       "Expression:\n",
       "{\n",
       "    slow_function(i)\n",
       "}\n",
       "Lazy evaluation: FALSE\n",
       "Asynchronous evaluation: TRUE\n",
       "Local evaluation: TRUE\n",
       "Environment: R_GlobalEnv\n",
       "Capture standard output: TRUE\n",
       "Capture condition classes: ‘condition’\n",
       "Globals: <none>\n",
       "Packages: <none>\n",
       "L'Ecuyer-CMRG RNG seed: <none> (seed = FALSE)\n",
       "Resolved: TRUE\n",
       "Value: 136 bytes of class ‘character’\n",
       "Early signaling: FALSE\n",
       "Owner process: 1d0b28ab-cd81-c92e-728e-34dd8b6a6a48\n",
       "Class: ‘MulticoreFuture’, ‘MultiprocessFuture’, ‘Future’, ‘environment’"
      ]
     },
     "metadata": {},
     "output_type": "display_data"
    }
   ],
   "source": [
    "print(\"What one iteration looks like in the command set\")\n",
    "# prints first iteration\n",
    "command_set[[1]]"
   ]
  },
  {
   "cell_type": "markdown",
   "metadata": {},
   "source": [
    "####  3. Evaluate the code\n",
    "The value() object will take the list and run the code in parallel. Since the output is a list of lists, we can collapse it into an array with the unlist object. "
   ]
  },
  {
   "cell_type": "code",
   "execution_count": 12,
   "metadata": {},
   "outputs": [
    {
     "name": "stdout",
     "output_type": "stream",
     "text": [
      "[1] \"list output\"\n"
     ]
    },
    {
     "data": {
      "text/html": [
       "<ol>\n",
       "\t<li>'Step 1 completed'</li>\n",
       "\t<li>'Step 2 completed'</li>\n",
       "\t<li>'Step 3 completed'</li>\n",
       "\t<li>'Step 4 completed'</li>\n",
       "\t<li>'Step 5 completed'</li>\n",
       "\t<li>'Step 6 completed'</li>\n",
       "</ol>\n"
      ],
      "text/latex": [
       "\\begin{enumerate}\n",
       "\\item 'Step 1 completed'\n",
       "\\item 'Step 2 completed'\n",
       "\\item 'Step 3 completed'\n",
       "\\item 'Step 4 completed'\n",
       "\\item 'Step 5 completed'\n",
       "\\item 'Step 6 completed'\n",
       "\\end{enumerate}\n"
      ],
      "text/markdown": [
       "1. 'Step 1 completed'\n",
       "2. 'Step 2 completed'\n",
       "3. 'Step 3 completed'\n",
       "4. 'Step 4 completed'\n",
       "5. 'Step 5 completed'\n",
       "6. 'Step 6 completed'\n",
       "\n",
       "\n"
      ],
      "text/plain": [
       "[[1]]\n",
       "[1] \"Step 1 completed\"\n",
       "\n",
       "[[2]]\n",
       "[1] \"Step 2 completed\"\n",
       "\n",
       "[[3]]\n",
       "[1] \"Step 3 completed\"\n",
       "\n",
       "[[4]]\n",
       "[1] \"Step 4 completed\"\n",
       "\n",
       "[[5]]\n",
       "[1] \"Step 5 completed\"\n",
       "\n",
       "[[6]]\n",
       "[1] \"Step 6 completed\"\n"
      ]
     },
     "metadata": {},
     "output_type": "display_data"
    },
    {
     "name": "stdout",
     "output_type": "stream",
     "text": [
      "[1] \"array output\"\n"
     ]
    },
    {
     "data": {
      "text/html": [
       "<style>\n",
       ".list-inline {list-style: none; margin:0; padding: 0}\n",
       ".list-inline>li {display: inline-block}\n",
       ".list-inline>li:not(:last-child)::after {content: \"\\00b7\"; padding: 0 .5ex}\n",
       "</style>\n",
       "<ol class=list-inline><li>'Step 1 completed'</li><li>'Step 2 completed'</li><li>'Step 3 completed'</li><li>'Step 4 completed'</li><li>'Step 5 completed'</li><li>'Step 6 completed'</li></ol>\n"
      ],
      "text/latex": [
       "\\begin{enumerate*}\n",
       "\\item 'Step 1 completed'\n",
       "\\item 'Step 2 completed'\n",
       "\\item 'Step 3 completed'\n",
       "\\item 'Step 4 completed'\n",
       "\\item 'Step 5 completed'\n",
       "\\item 'Step 6 completed'\n",
       "\\end{enumerate*}\n"
      ],
      "text/markdown": [
       "1. 'Step 1 completed'\n",
       "2. 'Step 2 completed'\n",
       "3. 'Step 3 completed'\n",
       "4. 'Step 4 completed'\n",
       "5. 'Step 5 completed'\n",
       "6. 'Step 6 completed'\n",
       "\n",
       "\n"
      ],
      "text/plain": [
       "[1] \"Step 1 completed\" \"Step 2 completed\" \"Step 3 completed\" \"Step 4 completed\"\n",
       "[5] \"Step 5 completed\" \"Step 6 completed\""
      ]
     },
     "metadata": {},
     "output_type": "display_data"
    }
   ],
   "source": [
    "# evaluate, distribute each iteration here \n",
    "output <- value(command_set)\n",
    "\n",
    "# ouput is here but separates lists. \n",
    "print(\"list output\")\n",
    "head(output) # using head to limit output\n",
    "\n",
    "\n",
    "# we can combine them into a vector using unlist()\n",
    "print(\"array output\")\n",
    "head(unlist(output)) # using head to limit output"
   ]
  },
  {
   "cell_type": "markdown",
   "metadata": {},
   "source": [
    "all in one block:"
   ]
  },
  {
   "cell_type": "code",
   "execution_count": 13,
   "metadata": {},
   "outputs": [
    {
     "data": {
      "text/html": [
       "<style>\n",
       ".list-inline {list-style: none; margin:0; padding: 0}\n",
       ".list-inline>li {display: inline-block}\n",
       ".list-inline>li:not(:last-child)::after {content: \"\\00b7\"; padding: 0 .5ex}\n",
       "</style>\n",
       "<ol class=list-inline><li>'Step 1 completed'</li><li>'Step 2 completed'</li><li>'Step 3 completed'</li><li>'Step 4 completed'</li><li>'Step 5 completed'</li><li>'Step 6 completed'</li></ol>\n"
      ],
      "text/latex": [
       "\\begin{enumerate*}\n",
       "\\item 'Step 1 completed'\n",
       "\\item 'Step 2 completed'\n",
       "\\item 'Step 3 completed'\n",
       "\\item 'Step 4 completed'\n",
       "\\item 'Step 5 completed'\n",
       "\\item 'Step 6 completed'\n",
       "\\end{enumerate*}\n"
      ],
      "text/markdown": [
       "1. 'Step 1 completed'\n",
       "2. 'Step 2 completed'\n",
       "3. 'Step 3 completed'\n",
       "4. 'Step 4 completed'\n",
       "5. 'Step 5 completed'\n",
       "6. 'Step 6 completed'\n",
       "\n",
       "\n"
      ],
      "text/plain": [
       "[1] \"Step 1 completed\" \"Step 2 completed\" \"Step 3 completed\" \"Step 4 completed\"\n",
       "[5] \"Step 5 completed\" \"Step 6 completed\""
      ]
     },
     "metadata": {},
     "output_type": "display_data"
    },
    {
     "name": "stdout",
     "output_type": "stream",
     "text": [
      "[1] \"Elapsed time for future example:\"\n"
     ]
    },
    {
     "data": {
      "text/html": [
       "11.85"
      ],
      "text/latex": [
       "11.85"
      ],
      "text/markdown": [
       "11.85"
      ],
      "text/plain": [
       "[1] 11.85"
      ]
     },
     "metadata": {},
     "output_type": "display_data"
    }
   ],
   "source": [
    "# plan\n",
    "plan(multicore)\n",
    "\n",
    "command_set <- vector(mode = \"list\", length = 50)\n",
    "t1 <- proc.time()\n",
    "\n",
    "for (i in 1:50){\n",
    "  command_set[[i]] <- future(\n",
    "    # but code for each iteration with curly brackets\n",
    "    {slow_function(i)}\n",
    "  ) \n",
    "}\n",
    "\n",
    "# evaluate\n",
    "output <- value(command_set)\n",
    "\n",
    "# ouput is here\n",
    "head(unlist(output))\n",
    "\n",
    "\n",
    "# timestampe after loop \n",
    "t2 <- proc.time()\n",
    "\n",
    "\n",
    "print(\"Elapsed time for future example:\")\n",
    "# length of time\n",
    "time_Elapsed <- t2[[3]] - t1[[3]]\n",
    "round(time_Elapsed, 2)"
   ]
  },
  {
   "cell_type": "markdown",
   "metadata": {},
   "source": [
    "## 2. Tidyverse example using the furrr package\n",
    "\n",
    "To change [tidyverse code](https://www.tidyverse.org/), all that is needed is to set up the parallelization (plan object) and then replace the map object with future_map. The evaluation step is completed with the future_map object. "
   ]
  },
  {
   "cell_type": "markdown",
   "metadata": {},
   "source": [
    "### Setup\n",
    "This example uses the gapminder dataset and creates a linear model for each country. The datafame becomes a nested dataframe by country so we can use the furrr package to iterate over each country and compute the linear model. See this link to the [purrr package](https://purrr.tidyverse.org/) and the [repurrrsive](https://github.com/jennybc/repurrrsive) for more details. "
   ]
  },
  {
   "cell_type": "code",
   "execution_count": 14,
   "metadata": {},
   "outputs": [
    {
     "data": {
      "text/html": [
       "<table class=\"dataframe\">\n",
       "<caption>A tibble: 6 × 6</caption>\n",
       "<thead>\n",
       "\t<tr><th scope=col>country</th><th scope=col>continent</th><th scope=col>year</th><th scope=col>lifeExp</th><th scope=col>pop</th><th scope=col>gdpPercap</th></tr>\n",
       "\t<tr><th scope=col>&lt;fct&gt;</th><th scope=col>&lt;fct&gt;</th><th scope=col>&lt;int&gt;</th><th scope=col>&lt;dbl&gt;</th><th scope=col>&lt;int&gt;</th><th scope=col>&lt;dbl&gt;</th></tr>\n",
       "</thead>\n",
       "<tbody>\n",
       "\t<tr><td>Afghanistan</td><td>Asia</td><td>1952</td><td>28.801</td><td> 8425333</td><td>779.4453</td></tr>\n",
       "\t<tr><td>Afghanistan</td><td>Asia</td><td>1957</td><td>30.332</td><td> 9240934</td><td>820.8530</td></tr>\n",
       "\t<tr><td>Afghanistan</td><td>Asia</td><td>1962</td><td>31.997</td><td>10267083</td><td>853.1007</td></tr>\n",
       "\t<tr><td>Afghanistan</td><td>Asia</td><td>1967</td><td>34.020</td><td>11537966</td><td>836.1971</td></tr>\n",
       "\t<tr><td>Afghanistan</td><td>Asia</td><td>1972</td><td>36.088</td><td>13079460</td><td>739.9811</td></tr>\n",
       "\t<tr><td>Afghanistan</td><td>Asia</td><td>1977</td><td>38.438</td><td>14880372</td><td>786.1134</td></tr>\n",
       "</tbody>\n",
       "</table>\n"
      ],
      "text/latex": [
       "A tibble: 6 × 6\n",
       "\\begin{tabular}{llllll}\n",
       " country & continent & year & lifeExp & pop & gdpPercap\\\\\n",
       " <fct> & <fct> & <int> & <dbl> & <int> & <dbl>\\\\\n",
       "\\hline\n",
       "\t Afghanistan & Asia & 1952 & 28.801 &  8425333 & 779.4453\\\\\n",
       "\t Afghanistan & Asia & 1957 & 30.332 &  9240934 & 820.8530\\\\\n",
       "\t Afghanistan & Asia & 1962 & 31.997 & 10267083 & 853.1007\\\\\n",
       "\t Afghanistan & Asia & 1967 & 34.020 & 11537966 & 836.1971\\\\\n",
       "\t Afghanistan & Asia & 1972 & 36.088 & 13079460 & 739.9811\\\\\n",
       "\t Afghanistan & Asia & 1977 & 38.438 & 14880372 & 786.1134\\\\\n",
       "\\end{tabular}\n"
      ],
      "text/markdown": [
       "\n",
       "A tibble: 6 × 6\n",
       "\n",
       "| country &lt;fct&gt; | continent &lt;fct&gt; | year &lt;int&gt; | lifeExp &lt;dbl&gt; | pop &lt;int&gt; | gdpPercap &lt;dbl&gt; |\n",
       "|---|---|---|---|---|---|\n",
       "| Afghanistan | Asia | 1952 | 28.801 |  8425333 | 779.4453 |\n",
       "| Afghanistan | Asia | 1957 | 30.332 |  9240934 | 820.8530 |\n",
       "| Afghanistan | Asia | 1962 | 31.997 | 10267083 | 853.1007 |\n",
       "| Afghanistan | Asia | 1967 | 34.020 | 11537966 | 836.1971 |\n",
       "| Afghanistan | Asia | 1972 | 36.088 | 13079460 | 739.9811 |\n",
       "| Afghanistan | Asia | 1977 | 38.438 | 14880372 | 786.1134 |\n",
       "\n"
      ],
      "text/plain": [
       "  country     continent year lifeExp pop      gdpPercap\n",
       "1 Afghanistan Asia      1952 28.801   8425333 779.4453 \n",
       "2 Afghanistan Asia      1957 30.332   9240934 820.8530 \n",
       "3 Afghanistan Asia      1962 31.997  10267083 853.1007 \n",
       "4 Afghanistan Asia      1967 34.020  11537966 836.1971 \n",
       "5 Afghanistan Asia      1972 36.088  13079460 739.9811 \n",
       "6 Afghanistan Asia      1977 38.438  14880372 786.1134 "
      ]
     },
     "metadata": {},
     "output_type": "display_data"
    },
    {
     "name": "stdout",
     "output_type": "stream",
     "text": [
      "[1] \"Elapsed time for sequential purrr  example:\"\n"
     ]
    },
    {
     "data": {
      "text/html": [
       "28.92"
      ],
      "text/latex": [
       "28.92"
      ],
      "text/markdown": [
       "28.92"
      ],
      "text/plain": [
       "[1] 28.92"
      ]
     },
     "metadata": {},
     "output_type": "display_data"
    }
   ],
   "source": [
    "# create a nested dataframe with each country as a row \n",
    "# we will iterate using the map function from the purrr package\n",
    "head(gap_simple)\n",
    "\n",
    "\n",
    "country_nested <- \n",
    "  gap_simple %>%\n",
    "  group_by(country) %>%\n",
    "  nest() %>%\n",
    "  ungroup() # this is necessary or furrr will be slow\n",
    "\n",
    "\n",
    "\n",
    "# linear model we will run for each country. \n",
    "# in the real world, don't do this!! Always check model assumptions!\n",
    "custom_model <- \n",
    "  function(data){\n",
    "    # just to slow it down so its more obvious it's in parallel\n",
    "    Sys.sleep(.2)\n",
    "    lm(lifeExp ~ pop + gdpPercap + year, data = data)\n",
    "  }\n",
    "\n",
    "\n",
    "\n",
    "# Sequential form (normal purrr)\n",
    "t1 <- proc.time()\n",
    "model_done <- \n",
    "    country_nested %>%\n",
    "    mutate(lm_obj = map(data, custom_model))\n",
    "\n",
    "t2 <- proc.time()\n",
    "print(\"Elapsed time for sequential purrr  example:\")\n",
    "# length of time\n",
    "time_Elapsed <- t2[[3]] - t1[[3]]\n",
    "round(time_Elapsed, 2)"
   ]
  },
  {
   "cell_type": "markdown",
   "metadata": {},
   "source": [
    "###  Rerunning tidyverse in parallel via the furrr package \n",
    "To change the code to work with tidyverse, replace the map object with future_map."
   ]
  },
  {
   "cell_type": "code",
   "execution_count": 15,
   "metadata": {},
   "outputs": [
    {
     "name": "stdout",
     "output_type": "stream",
     "text": [
      "[1] \"Elapsed time for furrr example:\"\n"
     ]
    },
    {
     "data": {
      "text/html": [
       "4.17"
      ],
      "text/latex": [
       "4.17"
      ],
      "text/markdown": [
       "4.17"
      ],
      "text/plain": [
       "[1] 4.17"
      ]
     },
     "metadata": {},
     "output_type": "display_data"
    }
   ],
   "source": [
    "# using furrr package\n",
    "\n",
    "# use all cores available\n",
    "plan(multicore) \n",
    "\n",
    "# this time we do no not need to the evauluation step as it is included in the future_map function.\n",
    "t1 <- proc.time()\n",
    "model_done <- \n",
    "    country_nested %>%\n",
    "    mutate(lm_obj = future_map(data, custom_model)) # switched map to future_map!\n",
    "\n",
    "# switch back to one core\n",
    "plan(sequential)   \n",
    "t2 <- proc.time()\n",
    "\n",
    "print(\"Elapsed time for furrr example:\")\n",
    "time_Elapsed <- t2[[3]] - t1[[3]]\n",
    "round(time_Elapsed, 2)\n"
   ]
  },
  {
   "cell_type": "markdown",
   "metadata": {},
   "source": [
    "Example: model output for Bosnia and Herzegovina (proof the future code provided output). \n"
   ]
  },
  {
   "cell_type": "code",
   "execution_count": 16,
   "metadata": {},
   "outputs": [
    {
     "data": {
      "text/html": [
       "Bosnia and Herzegovina\n",
       "<details>\n",
       "\t<summary style=display:list-item;cursor:pointer>\n",
       "\t\t<strong>Levels</strong>:\n",
       "\t</summary>\n",
       "\t<style>\n",
       "\t.list-inline {list-style: none; margin:0; padding: 0}\n",
       "\t.list-inline>li {display: inline-block}\n",
       "\t.list-inline>li:not(:last-child)::after {content: \"\\00b7\"; padding: 0 .5ex}\n",
       "\t</style>\n",
       "\t<ol class=list-inline><li>'Afghanistan'</li><li>'Albania'</li><li>'Algeria'</li><li>'Angola'</li><li>'Argentina'</li><li>'Australia'</li><li>'Austria'</li><li>'Bahrain'</li><li>'Bangladesh'</li><li>'Belgium'</li><li>'Benin'</li><li>'Bolivia'</li><li>'Bosnia and Herzegovina'</li><li>'Botswana'</li><li>'Brazil'</li><li>'Bulgaria'</li><li>'Burkina Faso'</li><li>'Burundi'</li><li>'Cambodia'</li><li>'Cameroon'</li><li>'Canada'</li><li>'Central African Republic'</li><li>'Chad'</li><li>'Chile'</li><li>'China'</li><li>'Colombia'</li><li>'Comoros'</li><li>'Congo, Dem. Rep.'</li><li>'Congo, Rep.'</li><li>'Costa Rica'</li><li>'Cote d\\'Ivoire'</li><li>'Croatia'</li><li>'Cuba'</li><li>'Czech Republic'</li><li>'Denmark'</li><li>'Djibouti'</li><li>'Dominican Republic'</li><li>'Ecuador'</li><li>'Egypt'</li><li>'El Salvador'</li><li>'Equatorial Guinea'</li><li>'Eritrea'</li><li>'Ethiopia'</li><li>'Finland'</li><li>'France'</li><li>'Gabon'</li><li>'Gambia'</li><li>'Germany'</li><li>'Ghana'</li><li>'Greece'</li><li>'Guatemala'</li><li>'Guinea'</li><li>'Guinea-Bissau'</li><li>'Haiti'</li><li>'Honduras'</li><li>'Hong Kong, China'</li><li>'Hungary'</li><li>'Iceland'</li><li>'India'</li><li>'Indonesia'</li><li>'Iran'</li><li>'Iraq'</li><li>'Ireland'</li><li>'Israel'</li><li>'Italy'</li><li>'Jamaica'</li><li>'Japan'</li><li>'Jordan'</li><li>'Kenya'</li><li>'Korea, Dem. Rep.'</li><li>'Korea, Rep.'</li><li>'Kuwait'</li><li>'Lebanon'</li><li>'Lesotho'</li><li>'Liberia'</li><li>'Libya'</li><li>'Madagascar'</li><li>'Malawi'</li><li>'Malaysia'</li><li>'Mali'</li><li>'Mauritania'</li><li>'Mauritius'</li><li>'Mexico'</li><li>'Mongolia'</li><li>'Montenegro'</li><li>'Morocco'</li><li>'Mozambique'</li><li>'Myanmar'</li><li>'Namibia'</li><li>'Nepal'</li><li>'Netherlands'</li><li>'New Zealand'</li><li>'Nicaragua'</li><li>'Niger'</li><li>'Nigeria'</li><li>'Norway'</li><li>'Oman'</li><li>'Pakistan'</li><li>'Panama'</li><li>'Paraguay'</li><li>'Peru'</li><li>'Philippines'</li><li>'Poland'</li><li>'Portugal'</li><li>'Puerto Rico'</li><li>'Reunion'</li><li>'Romania'</li><li>'Rwanda'</li><li>'Sao Tome and Principe'</li><li>'Saudi Arabia'</li><li>'Senegal'</li><li>'Serbia'</li><li>'Sierra Leone'</li><li>'Singapore'</li><li>'Slovak Republic'</li><li>'Slovenia'</li><li>'Somalia'</li><li>'South Africa'</li><li>'Spain'</li><li>'Sri Lanka'</li><li>'Sudan'</li><li>'Swaziland'</li><li>'Sweden'</li><li>'Switzerland'</li><li>'Syria'</li><li>'Taiwan'</li><li>'Tanzania'</li><li>'Thailand'</li><li>'Togo'</li><li>'Trinidad and Tobago'</li><li>'Tunisia'</li><li>'Turkey'</li><li>'Uganda'</li><li>'United Kingdom'</li><li>'United States'</li><li>'Uruguay'</li><li>'Venezuela'</li><li>'Vietnam'</li><li>'West Bank and Gaza'</li><li>'Yemen, Rep.'</li><li>'Zambia'</li><li>'Zimbabwe'</li></ol>\n",
       "</details>"
      ],
      "text/latex": [
       "Bosnia and Herzegovina\n",
       "\\emph{Levels}: \\begin{enumerate*}\n",
       "\\item 'Afghanistan'\n",
       "\\item 'Albania'\n",
       "\\item 'Algeria'\n",
       "\\item 'Angola'\n",
       "\\item 'Argentina'\n",
       "\\item 'Australia'\n",
       "\\item 'Austria'\n",
       "\\item 'Bahrain'\n",
       "\\item 'Bangladesh'\n",
       "\\item 'Belgium'\n",
       "\\item 'Benin'\n",
       "\\item 'Bolivia'\n",
       "\\item 'Bosnia and Herzegovina'\n",
       "\\item 'Botswana'\n",
       "\\item 'Brazil'\n",
       "\\item 'Bulgaria'\n",
       "\\item 'Burkina Faso'\n",
       "\\item 'Burundi'\n",
       "\\item 'Cambodia'\n",
       "\\item 'Cameroon'\n",
       "\\item 'Canada'\n",
       "\\item 'Central African Republic'\n",
       "\\item 'Chad'\n",
       "\\item 'Chile'\n",
       "\\item 'China'\n",
       "\\item 'Colombia'\n",
       "\\item 'Comoros'\n",
       "\\item 'Congo, Dem. Rep.'\n",
       "\\item 'Congo, Rep.'\n",
       "\\item 'Costa Rica'\n",
       "\\item 'Cote d\\textbackslash{}'Ivoire'\n",
       "\\item 'Croatia'\n",
       "\\item 'Cuba'\n",
       "\\item 'Czech Republic'\n",
       "\\item 'Denmark'\n",
       "\\item 'Djibouti'\n",
       "\\item 'Dominican Republic'\n",
       "\\item 'Ecuador'\n",
       "\\item 'Egypt'\n",
       "\\item 'El Salvador'\n",
       "\\item 'Equatorial Guinea'\n",
       "\\item 'Eritrea'\n",
       "\\item 'Ethiopia'\n",
       "\\item 'Finland'\n",
       "\\item 'France'\n",
       "\\item 'Gabon'\n",
       "\\item 'Gambia'\n",
       "\\item 'Germany'\n",
       "\\item 'Ghana'\n",
       "\\item 'Greece'\n",
       "\\item 'Guatemala'\n",
       "\\item 'Guinea'\n",
       "\\item 'Guinea-Bissau'\n",
       "\\item 'Haiti'\n",
       "\\item 'Honduras'\n",
       "\\item 'Hong Kong, China'\n",
       "\\item 'Hungary'\n",
       "\\item 'Iceland'\n",
       "\\item 'India'\n",
       "\\item 'Indonesia'\n",
       "\\item 'Iran'\n",
       "\\item 'Iraq'\n",
       "\\item 'Ireland'\n",
       "\\item 'Israel'\n",
       "\\item 'Italy'\n",
       "\\item 'Jamaica'\n",
       "\\item 'Japan'\n",
       "\\item 'Jordan'\n",
       "\\item 'Kenya'\n",
       "\\item 'Korea, Dem. Rep.'\n",
       "\\item 'Korea, Rep.'\n",
       "\\item 'Kuwait'\n",
       "\\item 'Lebanon'\n",
       "\\item 'Lesotho'\n",
       "\\item 'Liberia'\n",
       "\\item 'Libya'\n",
       "\\item 'Madagascar'\n",
       "\\item 'Malawi'\n",
       "\\item 'Malaysia'\n",
       "\\item 'Mali'\n",
       "\\item 'Mauritania'\n",
       "\\item 'Mauritius'\n",
       "\\item 'Mexico'\n",
       "\\item 'Mongolia'\n",
       "\\item 'Montenegro'\n",
       "\\item 'Morocco'\n",
       "\\item 'Mozambique'\n",
       "\\item 'Myanmar'\n",
       "\\item 'Namibia'\n",
       "\\item 'Nepal'\n",
       "\\item 'Netherlands'\n",
       "\\item 'New Zealand'\n",
       "\\item 'Nicaragua'\n",
       "\\item 'Niger'\n",
       "\\item 'Nigeria'\n",
       "\\item 'Norway'\n",
       "\\item 'Oman'\n",
       "\\item 'Pakistan'\n",
       "\\item 'Panama'\n",
       "\\item 'Paraguay'\n",
       "\\item 'Peru'\n",
       "\\item 'Philippines'\n",
       "\\item 'Poland'\n",
       "\\item 'Portugal'\n",
       "\\item 'Puerto Rico'\n",
       "\\item 'Reunion'\n",
       "\\item 'Romania'\n",
       "\\item 'Rwanda'\n",
       "\\item 'Sao Tome and Principe'\n",
       "\\item 'Saudi Arabia'\n",
       "\\item 'Senegal'\n",
       "\\item 'Serbia'\n",
       "\\item 'Sierra Leone'\n",
       "\\item 'Singapore'\n",
       "\\item 'Slovak Republic'\n",
       "\\item 'Slovenia'\n",
       "\\item 'Somalia'\n",
       "\\item 'South Africa'\n",
       "\\item 'Spain'\n",
       "\\item 'Sri Lanka'\n",
       "\\item 'Sudan'\n",
       "\\item 'Swaziland'\n",
       "\\item 'Sweden'\n",
       "\\item 'Switzerland'\n",
       "\\item 'Syria'\n",
       "\\item 'Taiwan'\n",
       "\\item 'Tanzania'\n",
       "\\item 'Thailand'\n",
       "\\item 'Togo'\n",
       "\\item 'Trinidad and Tobago'\n",
       "\\item 'Tunisia'\n",
       "\\item 'Turkey'\n",
       "\\item 'Uganda'\n",
       "\\item 'United Kingdom'\n",
       "\\item 'United States'\n",
       "\\item 'Uruguay'\n",
       "\\item 'Venezuela'\n",
       "\\item 'Vietnam'\n",
       "\\item 'West Bank and Gaza'\n",
       "\\item 'Yemen, Rep.'\n",
       "\\item 'Zambia'\n",
       "\\item 'Zimbabwe'\n",
       "\\end{enumerate*}\n"
      ],
      "text/markdown": [
       "Bosnia and Herzegovina\n",
       "**Levels**: 1. 'Afghanistan'\n",
       "2. 'Albania'\n",
       "3. 'Algeria'\n",
       "4. 'Angola'\n",
       "5. 'Argentina'\n",
       "6. 'Australia'\n",
       "7. 'Austria'\n",
       "8. 'Bahrain'\n",
       "9. 'Bangladesh'\n",
       "10. 'Belgium'\n",
       "11. 'Benin'\n",
       "12. 'Bolivia'\n",
       "13. 'Bosnia and Herzegovina'\n",
       "14. 'Botswana'\n",
       "15. 'Brazil'\n",
       "16. 'Bulgaria'\n",
       "17. 'Burkina Faso'\n",
       "18. 'Burundi'\n",
       "19. 'Cambodia'\n",
       "20. 'Cameroon'\n",
       "21. 'Canada'\n",
       "22. 'Central African Republic'\n",
       "23. 'Chad'\n",
       "24. 'Chile'\n",
       "25. 'China'\n",
       "26. 'Colombia'\n",
       "27. 'Comoros'\n",
       "28. 'Congo, Dem. Rep.'\n",
       "29. 'Congo, Rep.'\n",
       "30. 'Costa Rica'\n",
       "31. 'Cote d\\'Ivoire'\n",
       "32. 'Croatia'\n",
       "33. 'Cuba'\n",
       "34. 'Czech Republic'\n",
       "35. 'Denmark'\n",
       "36. 'Djibouti'\n",
       "37. 'Dominican Republic'\n",
       "38. 'Ecuador'\n",
       "39. 'Egypt'\n",
       "40. 'El Salvador'\n",
       "41. 'Equatorial Guinea'\n",
       "42. 'Eritrea'\n",
       "43. 'Ethiopia'\n",
       "44. 'Finland'\n",
       "45. 'France'\n",
       "46. 'Gabon'\n",
       "47. 'Gambia'\n",
       "48. 'Germany'\n",
       "49. 'Ghana'\n",
       "50. 'Greece'\n",
       "51. 'Guatemala'\n",
       "52. 'Guinea'\n",
       "53. 'Guinea-Bissau'\n",
       "54. 'Haiti'\n",
       "55. 'Honduras'\n",
       "56. 'Hong Kong, China'\n",
       "57. 'Hungary'\n",
       "58. 'Iceland'\n",
       "59. 'India'\n",
       "60. 'Indonesia'\n",
       "61. 'Iran'\n",
       "62. 'Iraq'\n",
       "63. 'Ireland'\n",
       "64. 'Israel'\n",
       "65. 'Italy'\n",
       "66. 'Jamaica'\n",
       "67. 'Japan'\n",
       "68. 'Jordan'\n",
       "69. 'Kenya'\n",
       "70. 'Korea, Dem. Rep.'\n",
       "71. 'Korea, Rep.'\n",
       "72. 'Kuwait'\n",
       "73. 'Lebanon'\n",
       "74. 'Lesotho'\n",
       "75. 'Liberia'\n",
       "76. 'Libya'\n",
       "77. 'Madagascar'\n",
       "78. 'Malawi'\n",
       "79. 'Malaysia'\n",
       "80. 'Mali'\n",
       "81. 'Mauritania'\n",
       "82. 'Mauritius'\n",
       "83. 'Mexico'\n",
       "84. 'Mongolia'\n",
       "85. 'Montenegro'\n",
       "86. 'Morocco'\n",
       "87. 'Mozambique'\n",
       "88. 'Myanmar'\n",
       "89. 'Namibia'\n",
       "90. 'Nepal'\n",
       "91. 'Netherlands'\n",
       "92. 'New Zealand'\n",
       "93. 'Nicaragua'\n",
       "94. 'Niger'\n",
       "95. 'Nigeria'\n",
       "96. 'Norway'\n",
       "97. 'Oman'\n",
       "98. 'Pakistan'\n",
       "99. 'Panama'\n",
       "100. 'Paraguay'\n",
       "101. 'Peru'\n",
       "102. 'Philippines'\n",
       "103. 'Poland'\n",
       "104. 'Portugal'\n",
       "105. 'Puerto Rico'\n",
       "106. 'Reunion'\n",
       "107. 'Romania'\n",
       "108. 'Rwanda'\n",
       "109. 'Sao Tome and Principe'\n",
       "110. 'Saudi Arabia'\n",
       "111. 'Senegal'\n",
       "112. 'Serbia'\n",
       "113. 'Sierra Leone'\n",
       "114. 'Singapore'\n",
       "115. 'Slovak Republic'\n",
       "116. 'Slovenia'\n",
       "117. 'Somalia'\n",
       "118. 'South Africa'\n",
       "119. 'Spain'\n",
       "120. 'Sri Lanka'\n",
       "121. 'Sudan'\n",
       "122. 'Swaziland'\n",
       "123. 'Sweden'\n",
       "124. 'Switzerland'\n",
       "125. 'Syria'\n",
       "126. 'Taiwan'\n",
       "127. 'Tanzania'\n",
       "128. 'Thailand'\n",
       "129. 'Togo'\n",
       "130. 'Trinidad and Tobago'\n",
       "131. 'Tunisia'\n",
       "132. 'Turkey'\n",
       "133. 'Uganda'\n",
       "134. 'United Kingdom'\n",
       "135. 'United States'\n",
       "136. 'Uruguay'\n",
       "137. 'Venezuela'\n",
       "138. 'Vietnam'\n",
       "139. 'West Bank and Gaza'\n",
       "140. 'Yemen, Rep.'\n",
       "141. 'Zambia'\n",
       "142. 'Zimbabwe'\n",
       "\n",
       "\n"
      ],
      "text/plain": [
       "[1] Bosnia and Herzegovina\n",
       "142 Levels: Afghanistan Albania Algeria Angola Argentina Australia ... Zimbabwe"
      ]
     },
     "metadata": {},
     "output_type": "display_data"
    },
    {
     "data": {
      "text/plain": [
       "\n",
       "Call:\n",
       "lm(formula = lifeExp ~ pop + gdpPercap + year, data = data)\n",
       "\n",
       "Coefficients:\n",
       "(Intercept)          pop    gdpPercap         year  \n",
       " -4.950e+02    4.916e-06   -5.017e-04    2.757e-01  \n"
      ]
     },
     "metadata": {},
     "output_type": "display_data"
    }
   ],
   "source": [
    "model_done$country[[13]]\n",
    "model_done$lm_obj[[13]]"
   ]
  },
  {
   "cell_type": "markdown",
   "metadata": {},
   "source": [
    "## 3. Bayesian example using multiple nodes via the future.batchtools package\n",
    "This example runs multiple Bayesian models in parallel by submitting each model (iteration) to a separate node. This is very useful because each model can already run in parallel, thus CARC enables you to run all of your Bayesian parallelized models at once. the future.batchtools packages will use information in the batchtools.torque.tmpl file in your current directory to submit jobs. This file can be modified to change parameters such as length of walltime, number of cores, etc (see file below). \n",
    "\n",
    "These Bayesian models are joint-species distribution models (jSDMs) which fit the distributions of bird species and determines how it relates to their habitat, phylogeny, and traits. The code will run four Bayesian models that differ in their thinning and then write the models to file. The data and model objects are pre-built and loaded with the hmsc_setup.RData file and are derived from the [bird example](https://www2.helsinki.fi/en/researchgroups/statistical-ecology/hmsc) from their book. \n",
    "\n",
    "For the sequential version, I already set up it using future. You can check your future code by running it sequentially by using plan(sequential)."
   ]
  },
  {
   "cell_type": "markdown",
   "metadata": {},
   "source": [
    "### batchtools.torque.tmpl"
   ]
  },
  {
   "cell_type": "markdown",
   "metadata": {},
   "source": [
    "batchtools.torque.tmpl file needed in the same directory or specify the path to it. You will need this file created prior to running this example."
   ]
  },
  {
   "cell_type": "markdown",
   "metadata": {},
   "source": [
    "## Setup "
   ]
  },
  {
   "cell_type": "code",
   "execution_count": 17,
   "metadata": {
    "scrolled": true
   },
   "outputs": [
    {
     "name": "stderr",
     "output_type": "stream",
     "text": [
      "Updating HTML index of packages in '.Library'\n",
      "\n",
      "Making 'packages.html' ...\n",
      " done\n",
      "\n",
      "also installing the dependencies ‘askpass’, ‘credentials’, ‘sys’, ‘zip’, ‘gitcreds’, ‘ini’, ‘fastmap’, ‘highr’, ‘markdown’, ‘xfun’, ‘diffobj’, ‘rematch2’, ‘clipr’, ‘curl’, ‘gert’, ‘gh’, ‘rprojroot’, ‘whisker’, ‘yaml’, ‘processx’, ‘mime’, ‘openssl’, ‘cachem’, ‘xopen’, ‘commonmark’, ‘knitr’, ‘Rcpp’, ‘stringr’, ‘xml2’, ‘brio’, ‘praise’, ‘ps’, ‘waldo’, ‘usethis’, ‘callr’, ‘desc’, ‘httr’, ‘memoise’, ‘pkgbuild’, ‘pkgload’, ‘rcmdcheck’, ‘remotes’, ‘roxygen2’, ‘rstudioapi’, ‘rversions’, ‘sessioninfo’, ‘testthat’\n",
      "\n",
      "\n",
      "Updating HTML index of packages in '.Library'\n",
      "\n",
      "Making 'packages.html' ...\n",
      " done\n",
      "\n",
      "Loading required package: usethis\n",
      "\n",
      "Downloading GitHub repo hmsc-r/HMSC@HEAD\n",
      "\n"
     ]
    },
    {
     "name": "stdout",
     "output_type": "stream",
     "text": [
      "RcppArmad... (NA    -> 0.10.6.0.0) [CRAN]\n",
      "matrixStats  (NA    -> 0.60.0    ) [CRAN]\n",
      "conquer      (NA    -> 1.0.2     ) [CRAN]\n",
      "MatrixModels (NA    -> 0.5-0     ) [CRAN]\n",
      "SparseM      (NA    -> 1.81      ) [CRAN]\n",
      "fansi        (0.4.2 -> 0.5.0     ) [CRAN]\n",
      "gridExtra    (NA    -> 2.3       ) [CRAN]\n",
      "dotCall64    (NA    -> 1.0-1     ) [CRAN]\n",
      "plyr         (NA    -> 1.8.6     ) [CRAN]\n",
      "quantreg     (NA    -> 5.86      ) [CRAN]\n",
      "mcmc         (NA    -> 0.9-7     ) [CRAN]\n",
      "maps         (NA    -> 3.3.0     ) [CRAN]\n",
      "viridis      (NA    -> 0.6.1     ) [CRAN]\n",
      "spam         (NA    -> 2.7-0     ) [CRAN]\n",
      "truncnorm    (NA    -> 1.0-8     ) [CRAN]\n",
      "statmod      (NA    -> 1.4.36    ) [CRAN]\n",
      "sp           (NA    -> 1.4-5     ) [CRAN]\n",
      "pROC         (NA    -> 1.17.0.1  ) [CRAN]\n",
      "pracma       (NA    -> 2.3.3     ) [CRAN]\n",
      "MCMCpack     (NA    -> 1.5-0     ) [CRAN]\n",
      "FNN          (NA    -> 1.1.3     ) [CRAN]\n",
      "fields       (NA    -> 12.5      ) [CRAN]\n",
      "BayesLogit   (NA    -> 2.1       ) [CRAN]\n",
      "ape          (NA    -> 5.5       ) [CRAN]\n",
      "abind        (NA    -> 1.4-5     ) [CRAN]\n"
     ]
    },
    {
     "name": "stderr",
     "output_type": "stream",
     "text": [
      "Installing 25 packages: RcppArmadillo, matrixStats, conquer, MatrixModels, SparseM, fansi, gridExtra, dotCall64, plyr, quantreg, mcmc, maps, viridis, spam, truncnorm, statmod, sp, pROC, pracma, MCMCpack, FNN, fields, BayesLogit, ape, abind\n",
      "\n",
      "Updating HTML index of packages in '.Library'\n",
      "\n",
      "Making 'packages.html' ...\n",
      " done\n",
      "\n"
     ]
    },
    {
     "name": "stdout",
     "output_type": "stream",
     "text": [
      "\u001b[32m✔\u001b[39m  \u001b[90mchecking for file ‘/tmp/Rtmp7wOOGo/remotes4e4e7a4c3c6e/hmsc-r-HMSC-940f41c/DESCRIPTION’\u001b[39m\u001b[36m\u001b[36m (389ms)\u001b[36m\u001b[39m\n",
      "\u001b[90m─\u001b[39m\u001b[90m  \u001b[39m\u001b[90mpreparing ‘Hmsc’:\u001b[39m\u001b[36m\u001b[39m\n",
      "\u001b[32m✔\u001b[39m  \u001b[90mchecking DESCRIPTION meta-information\u001b[39m\u001b[36m\u001b[39m\n",
      "\u001b[90m─\u001b[39m\u001b[90m  \u001b[39m\u001b[90minstalling the package to process help pages\u001b[39m\u001b[36m\u001b[39m\n",
      "\u001b[90m─\u001b[39m\u001b[90m  \u001b[39m\u001b[90msaving partial Rd database\u001b[39m\u001b[36m\u001b[36m (19.7s)\u001b[36m\u001b[39m\n",
      "\u001b[90m─\u001b[39m\u001b[90m  \u001b[39m\u001b[90mchecking for LF line-endings in source and make files and shell scripts\u001b[39m\u001b[36m\u001b[39m\n",
      "\u001b[90m─\u001b[39m\u001b[90m  \u001b[39m\u001b[90mchecking for empty or unneeded directories\u001b[39m\u001b[36m\u001b[39m\n",
      "\u001b[90m─\u001b[39m\u001b[90m  \u001b[39m\u001b[90mbuilding ‘Hmsc_3.0-12.tar.gz’\u001b[39m\u001b[36m\u001b[39m\n",
      "   \n",
      "\r"
     ]
    }
   ],
   "source": [
    "# bring in data for model\n",
    "install.packages(\"coda\")\n",
    "install.packages(\"devtools\") # if not yet installed\n",
    "library(devtools)\n",
    "install_github(\"hmsc-r/HMSC\")\n",
    "library(coda)\n",
    "library(Hmsc)\n",
    "load(\"hmsc_setup.RData\")\n",
    "\n",
    "# Setting up the model\n",
    "studyDesign = data.frame(Route = XData$Route)\n",
    "rL = Hmsc::HmscRandomLevel(sData=xy)\n",
    "XFormula = ~ hab + poly(clim,degree = 2,raw = TRUE)\n",
    "TrFormula = ~Migration + LogMass\n",
    "\n",
    "# parameters for bayesian models. \n",
    "nChains = 4\n",
    "nParallel = 4 \n",
    "samples = 10 "
   ]
  },
  {
   "cell_type": "code",
   "execution_count": null,
   "metadata": {},
   "outputs": [],
   "source": [
    "#!/bin/bash\n",
    "\n",
    "## Job name:\n",
    "#PBS -q default\n",
    "#PBS -l nodes=1:ppn=4\n",
    "#PBS -l walltime=0:20:00\n",
    "#PBS -N x_big_model_test_parallel_4_cores_4_chains\n",
    "#PBS -j oe\n",
    "#PBS -m ae\n",
    "\n",
    "\n",
    "start=`date +%s`\n",
    "\n",
    "cd $PBS_O_WORKDIR\n",
    "\n",
    "# load R\n",
    "module load r-4.0.4-gcc-10.2.0-python3-dghog6f\n",
    "\n",
    "#Rscript -e '.libPaths(\"~/R/Jupyter\")' -e 'batchtools::doJobCollection(\"<%= uri %>\")'\n",
    "Rscript -e 'batchtools::doJobCollection(\"<%= uri %>\")'\n",
    "end=`date +%s`\n",
    "\n",
    "runtime=$((end-start))\n",
    "\n",
    "echo \"Runtime was $runtime seconds\""
   ]
  },
  {
   "cell_type": "code",
   "execution_count": 26,
   "metadata": {},
   "outputs": [
    {
     "data": {
      "text/html": [
       "875.1"
      ],
      "text/latex": [
       "875.1"
      ],
      "text/markdown": [
       "875.1"
      ],
      "text/plain": [
       "[1] 875.1"
      ]
     },
     "metadata": {},
     "output_type": "display_data"
    }
   ],
   "source": [
    "# set up that it will submit pbs scripts for each model\n",
    "plan(sequential)\n",
    "\n",
    "m = Hmsc(Y=Y, XData = XData, XFormula=XFormula, \n",
    "         phyloTree = phyloTree, TrData = TrData, \n",
    "         TrFormula = TrFormula,\n",
    "         distr=\"probit\", studyDesign=studyDesign, \n",
    "         ranLevels=list(Route=rL))\n",
    "y <- list()\n",
    "t1 <- proc.time()\n",
    "# running 4 models, each with a different thinning value\n",
    "for (thin in c(2,3,4,5)){\n",
    "  y[[thin]] <- future({\n",
    "  transient = 50*thin\n",
    "  m = sampleMcmc(m, thin = thin, samples = samples, transient = transient,\n",
    "                 nChains = nChains, initPar = \"fixed effects\",\n",
    "                 nParallel = nParallel)\n",
    "                 \n",
    "  # write model outputs to file               \n",
    "  filename=file.path(paste0(\"Big_model_torque_chains_\",as.character(nChains),\"_samples_\",as.character(samples),\"_thin_\",as.character(thin)))\n",
    "  save(m,file=filename)\n",
    "  }, seed = TRUE)\n",
    "}\n",
    "# evaluate expression\n",
    "#y <- value(y) \n",
    "\n",
    "t2 <- proc.time()\n",
    "time_Elapsed <- t2[[3]] - t1[[3]]\n",
    "round(time_Elapsed, 2)"
   ]
  },
  {
   "cell_type": "markdown",
   "metadata": {},
   "source": [
    "###  Rerunning bayesian models in parallel using future.batchtools package \n"
   ]
  },
  {
   "cell_type": "code",
   "execution_count": 25,
   "metadata": {},
   "outputs": [
    {
     "name": "stderr",
     "output_type": "stream",
     "text": [
      "setting updater$Gamma2=FALSE due to specified phylogeny matrix\n",
      "\n",
      "setting updater$Gamma2=FALSE due to specified phylogeny matrix\n",
      "\n",
      "setting updater$Gamma2=FALSE due to specified phylogeny matrix\n",
      "\n",
      "setting updater$Gamma2=FALSE due to specified phylogeny matrix\n",
      "\n"
     ]
    },
    {
     "data": {
      "text/html": [
       "375.03"
      ],
      "text/latex": [
       "375.03"
      ],
      "text/markdown": [
       "375.03"
      ],
      "text/plain": [
       "[1] 375.03"
      ]
     },
     "metadata": {},
     "output_type": "display_data"
    }
   ],
   "source": [
    "# set up that it will submit pbs scripts for each model\n",
    "# calls upon the batchtools.torque.tmpl file to set the parameters for each job\n",
    "\n",
    "plan(batchtools_torque)\n",
    "\n",
    "m = Hmsc(Y=Y, XData = XData, XFormula=XFormula, \n",
    "         phyloTree = phyloTree, TrData = TrData, \n",
    "         TrFormula = TrFormula,\n",
    "         distr=\"probit\", studyDesign=studyDesign, \n",
    "         ranLevels=list(Route=rL))\n",
    "\n",
    "y <- list()\n",
    "t1 <- proc.time()\n",
    "# running 4 models, each with a different thinning value\n",
    "for (thin in c(2,3,4,5)){\n",
    "  y[[thin]] <- future({\n",
    "  transient = 50*thin\n",
    "  m = sampleMcmc(m, thin = thin, samples = samples, transient = transient,\n",
    "                 nChains = nChains, initPar = \"fixed effects\",\n",
    "                 nParallel = nParallel)\n",
    "                 \n",
    "  # write model outputs to file               \n",
    "  filename=file.path(paste0(\"Big_model_torque_chains_\",as.character(nChains),\"_samples_\",as.character(samples),\"_thin_\",as.character(thin)))\n",
    "  save(m,file=filename)\n",
    "  }, seed = TRUE)\n",
    "}\n",
    "# evaluate expression\n",
    "y <- value(y) \n",
    "\n",
    "t2 <- proc.time()\n",
    "time_Elapsed <- t2[[3]] - t1[[3]]\n",
    "round(time_Elapsed, 2)\n",
    "\n"
   ]
  },
  {
   "cell_type": "markdown",
   "metadata": {},
   "source": [
    "<a id=’section_4’></a>\n",
    "## Appendix: Testing speedup with Future"
   ]
  },
  {
   "cell_type": "markdown",
   "metadata": {},
   "source": [
    "For some circumstances, writing your code in parallel with future package can make it slower! To illustrate this problem, I created a function called speedup_calc that allows you to play with the parameters and see what scenarios running the code in parallel. Essentially, it runs a for loop for different combinations of iterations, cores, and length of iterations (wait_time). Also, you can see the cost of setting up the code with the \"evaluate\" argument. When it is done, it will generate two plots (unless evaluate == FALSE), a plot showing how long it took for each iteration and core combination to complete, and a plot showing the speedup when the number of cores is increased. \n",
    "\n",
    "Arguments:\n",
    "\n",
    "\\* iterations requires a value (total iteratations) or a vector. \n",
    "\n",
    "\\* cores requires numeric a vector of cores you want to run. \n",
    "\n",
    "\\* wait_time requires a numeric value for how to wait for each iterative step. \n",
    "\n",
    "\\* evaluate requires a TRUE or FALSE. Allows you to turn off evaluation if you only want to measure setup time. It will also skip the speedup plot since setup time cannot be calculated for the serial version. \n"
   ]
  },
  {
   "cell_type": "markdown",
   "metadata": {},
   "source": [
    "speedup_calc function:"
   ]
  },
  {
   "cell_type": "code",
   "execution_count": 20,
   "metadata": {},
   "outputs": [],
   "source": [
    "speedup_calc <- \n",
    "    function(iterations, cores, wait_time, evaluate){\n",
    "        \n",
    "    try(if(cores[1] != 1) stop(\"Need to run the core as 1\"))\n",
    "\n",
    "    # set up arrays for storing for-loop data\n",
    "        times <- array(dim = c(length(iterations), length(cores)))\n",
    "        row.names(times) <- iterations\n",
    "        \n",
    "        \n",
    "       \n",
    "    # running the first set outside of the future loop. \n",
    "    # skips it if since there is no set up time for serial version. \n",
    "    if (evaluate == TRUE){    \n",
    "        \n",
    "        j <- 1\n",
    "        for (i in 1:length(iterations)){\n",
    "\n",
    "            current_step <- iterations[i]\n",
    "                    ### time point 1\n",
    "            t1 <- proc.time()\n",
    "            setup <- vector(mode = \"list\", length = length(iterations))\n",
    "\n",
    "                 for (k in 1:current_step){\n",
    "\n",
    "                        Sys.sleep(wait_time)\n",
    "                    }\n",
    "\n",
    "            \n",
    "            ### time point\n",
    "            t2 <- proc.time()\n",
    "\n",
    "            ## calculate difference in time and convert to minutes. Write to array\n",
    "            times[i, j] <- (t2[[3]] - t1[[3]]) \n",
    "\n",
    "                }\n",
    "\n",
    "\n",
    "    }\n",
    "        \n",
    "        # loop that first run through the number of cores\n",
    "        for (j in 2:length(cores)){\n",
    "\n",
    "            plan(multicore, workers = cores[j])\n",
    "            # figure out time it taakes for each iteration for j number of cores\n",
    "            for (i in 1:length(iterations)){\n",
    "\n",
    "                current_step <- iterations[i]\n",
    "                ### time point 1\n",
    "                t1 <- proc.time()\n",
    "                setup <- vector(mode = \"list\", length = length(iterations))\n",
    "\n",
    "                    for (k in 1:current_step){\n",
    "\n",
    "                        setup[[k]] <- future({Sys.sleep(wait_time)})\n",
    "                    }\n",
    "                \n",
    "                #  Allows you to run it without evaluating the code\n",
    "                if (evaluate == TRUE){evaluated <-  value(setup)}\n",
    "               \n",
    "                ### time point\n",
    "                t2 <- proc.time()\n",
    "\n",
    "                ## calculate difference in time and convert to minutes. Write to array\n",
    "                times[i, j] <- (t2[[3]] - t1[[3]]) \n",
    "            }\n",
    "\n",
    "            \n",
    "        }\n",
    "        \n",
    "        \n",
    "        ### clean and plot all of the data\n",
    "        options(repr.plot.width = 5, repr.plot.height = 2)  \n",
    "        # loop is finished so now cleanaing up data\n",
    "        times <- as.data.frame(times)\n",
    "        colnames(times) <- cores\n",
    "        times$iterations <- row.names(times)\n",
    "        \n",
    "        times$iterations <- factor(as.character(iterations), levels = iterations)\n",
    "        # plot time it takes for each core/iteratiaons combo\n",
    "   \n",
    "    if (evaluate == FALSE){\n",
    "        time_plot <- \n",
    "            times %>%\n",
    "            pivot_longer(cols = 1:length(cores), names_to = \"Cores\", values_to = \"Seconds\") %>%\n",
    "            filter(Cores != \"1\") %>%\n",
    "            ggplot(aes(x = iterations, y = Seconds, group =  Cores, color = Cores)) + \n",
    "            geom_line() + geom_point() + \n",
    "            ggtitle(\"Time Needed to Set Up Task\")\n",
    "        print(time_plot)\n",
    "        }\n",
    "        \n",
    "     \n",
    "        \n",
    "    if (evaluate == TRUE){   \n",
    "        \n",
    "         time_plot <- \n",
    "            times %>%\n",
    "            pivot_longer(cols = 1:length(cores), names_to = \"Cores\", values_to = \"Seconds\") %>%\n",
    "            ggplot(aes(x = iterations, y = Seconds, group =  Cores, color = Cores)) + \n",
    "            geom_line() + geom_point() + \n",
    "            ggtitle(\"Time Needed to Complete Task\")\n",
    "        print(time_plot)\n",
    "        \n",
    "        # speedup calcs\n",
    "        speedup_df <- 1/ (times[,1:length(cores)] /times[,1] )\n",
    "        speedup_df$iterations <- iterations\n",
    "\n",
    "    \n",
    "        speedup_plot <- \n",
    "            speedup_df %>%\n",
    "            pivot_longer(cols = 1:length(cores), names_to = \"Cores\", values_to = \"Speedup\") %>%\n",
    "            mutate(Cores = as.numeric(Cores)) %>%\n",
    "            ggplot(aes(x = Cores, y = Speedup, group =  iterations, color = iterations)) + \n",
    "            geom_line() + geom_point() + \n",
    "            ggtitle(\"Speedup Calculations\")\n",
    "\n",
    "        print(speedup_plot)\n",
    "        }\n",
    "        \n",
    "    }\n"
   ]
  },
  {
   "cell_type": "markdown",
   "metadata": {},
   "source": [
    "### Scenario 1: Cost of setup for many iterations \n",
    "This scenario plots how much time the setup takes. The cost for 100 iterations or more can be timely. The line with one core is omitted becauase it doesn't have setup time."
   ]
  },
  {
   "cell_type": "code",
   "execution_count": 21,
   "metadata": {},
   "outputs": [
    {
     "data": {
      "image/png": "[encoded data removed]",
      "text/plain": [
       "plot without title"
      ]
     },
     "metadata": {
      "image/png": {
       "height": 120,
       "width": 300
      }
     },
     "output_type": "display_data"
    }
   ],
   "source": [
    "speedup_calc(iterations = seq(from = 20, 100, by = 20), cores = c(1,2, 4, 8), wait_time = .25, evaluate = FALSE)"
   ]
  },
  {
   "cell_type": "markdown",
   "metadata": {},
   "source": [
    "### Scenario 2: running previous example\n",
    "Given the cost due to the setup time, parallelization offer very little improvement. "
   ]
  },
  {
   "cell_type": "code",
   "execution_count": 22,
   "metadata": {},
   "outputs": [
    {
     "data": {
      "image/png": "[encoded data removed]",
      "text/plain": [
       "plot without title"
      ]
     },
     "metadata": {
      "image/png": {
       "height": 120,
       "width": 300
      }
     },
     "output_type": "display_data"
    },
    {
     "data": {
      "image/png": "[encoded data removed]",
      "text/plain": [
       "plot without title"
      ]
     },
     "metadata": {
      "image/png": {
       "height": 120,
       "width": 300
      }
     },
     "output_type": "display_data"
    }
   ],
   "source": [
    "speedup_calc(iterations = seq(from = 20, 100, by = 20), cores = c(1,2, 4, 6, 8), wait_time = .25, evaluate = TRUE)"
   ]
  },
  {
   "cell_type": "markdown",
   "metadata": {},
   "source": [
    "### Scenario 3: Moderate speedup with a slower iteration\n",
    "When you incease the wait_time to 1 second, the increase in cores does provide a benefit. "
   ]
  },
  {
   "cell_type": "code",
   "execution_count": 23,
   "metadata": {},
   "outputs": [
    {
     "data": {
      "image/png": "[encoded data removed]",
      "text/plain": [
       "plot without title"
      ]
     },
     "metadata": {
      "image/png": {
       "height": 120,
       "width": 300
      }
     },
     "output_type": "display_data"
    },
    {
     "data": {
      "image/png": "[encoded data removed]",
      "text/plain": [
       "plot without title"
      ]
     },
     "metadata": {
      "image/png": {
       "height": 120,
       "width": 300
      }
     },
     "output_type": "display_data"
    }
   ],
   "source": [
    "speedup_calc(iterations = seq(from = 100, 300, by = 100), cores = c(1,2,4,6, 8), wait_time = 1, evaluate = TRUE)\n"
   ]
  },
  {
   "cell_type": "markdown",
   "metadata": {},
   "source": [
    "### Scenario 4: Best scenario for speedup\n",
    "The best case for future will be running the code with few iterations but very slow functions. "
   ]
  },
  {
   "cell_type": "code",
   "execution_count": 24,
   "metadata": {},
   "outputs": [
    {
     "data": {
      "image/png": "[encoded data removed]",
      "text/plain": [
       "plot without title"
      ]
     },
     "metadata": {
      "image/png": {
       "height": 120,
       "width": 300
      }
     },
     "output_type": "display_data"
    },
    {
     "data": {
      "image/png": "[encoded data removed]",
      "text/plain": [
       "plot without title"
      ]
     },
     "metadata": {
      "image/png": {
       "height": 120,
       "width": 300
      }
     },
     "output_type": "display_data"
    }
   ],
   "source": [
    "speedup_calc(iterations = seq(from = 10, 30, by = 10), cores = c(1,2,4,6, 8), wait_time = 15, evaluate = TRUE)"
   ]
  },
  {
   "cell_type": "markdown",
   "metadata": {},
   "source": [
    "## Conclusion\n",
    "The future package will offer the best performance when there are fewer iterations but each iteration is very slow. With your code, try running one iteration to see how long it takes and then use that estimate with speedup_calc. Depending on the wait_time and number of iterations, the function will give an estimate on if parallelization is worthwhile (caveat: the code will be slower if you have a large global environment). "
   ]
  }
 ],
 "metadata": {
  "kernelspec": {
   "display_name": "R [conda env:.conda-r_parallel_tutorial]",
   "language": "R",
   "name": "conda-env-.conda-r_parallel_tutorial-r"
  },
  "language_info": {
   "codemirror_mode": "r",
   "file_extension": ".r",
   "mimetype": "text/x-r-source",
   "name": "R",
   "pygments_lexer": "r",
   "version": "4.1.0"
  }
 },
 "nbformat": 4,
 "nbformat_minor": 2
}
